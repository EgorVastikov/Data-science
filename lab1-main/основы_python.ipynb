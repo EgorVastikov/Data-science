{
  "cells": [
    {
      "cell_type": "markdown",
      "metadata": {
        "id": "M-DGa20PaHnu"
      },
      "source": [
        "#Задача 1\n",
        "Написать функцию на вход которой подается строка, состоящая из латинских букв.\n",
        "Функция должна вернуть количество гласных букв (a, e, i, o, u) в этой строке. Написать тесты для кода"
      ]
    },
    {
      "cell_type": "code",
      "execution_count": 1,
      "metadata": {
        "id": "XvX8X_JJ6PCb"
      },
      "outputs": [],
      "source": [
        "# Your code goes here\n",
        "def vowels(string):\n",
        "    dict_vowels = {key: 0 for key in \"aeiou\"}\n",
        "    for char in string:\n",
        "        if char in dict_vowels:\n",
        "            dict_vowels[char] += 1\n",
        "    return dict_vowels\n"
      ]
    },
    {
      "cell_type": "markdown",
      "metadata": {},
      "source": [
        "<h3>ТЕСТЫ"
      ]
    },
    {
      "cell_type": "code",
      "execution_count": 2,
      "metadata": {},
      "outputs": [
        {
          "name": "stdout",
          "output_type": "stream",
          "text": [
            "Тест 1 пройден\n",
            "Тест 2 пройден\n",
            "Тест 3 пройден\n"
          ]
        }
      ],
      "source": [
        "str1 = \"aeiou\"\n",
        "str2 = \"aaaa\"\n",
        "str3 = \"qwpk\"\n",
        "\n",
        "expected1 = {'a': 1, 'e': 1, 'i': 1, 'o': 1, 'u': 1}\n",
        "expected2 = {'a': 4, 'e': 0, 'i': 0, 'o': 0, 'u': 0}\n",
        "expected3 = {'a': 0, 'e': 0, 'i': 0, 'o': 0, 'u': 0}\n",
        "\n",
        "assert vowels(str1) == expected1, f\"Ошибка в тесте 1: {vowels(str1)}\"\n",
        "print(\"Тест 1 пройден\")\n",
        "assert vowels(str2) == expected2, f\"Ошибка в тесте 2: {vowels(str2)}\"\n",
        "print(\"Тест 2 пройден\")\n",
        "assert vowels(str3) == expected3, f\"Ошибка в тесте 3: {vowels(str3)}\"\n",
        "print(\"Тест 3 пройден\")"
      ]
    },
    {
      "cell_type": "markdown",
      "metadata": {
        "id": "t2ClV_Y0bbr6"
      },
      "source": [
        "# Задача 2\n",
        "Написать функцию на вход, которой подается строка. Функция должна вернуть true, если\n",
        "каждый символ в строке встречается только 1 раз, иначе должна вернуть false. Написать тесты для кода"
      ]
    },
    {
      "cell_type": "code",
      "execution_count": 3,
      "metadata": {
        "id": "FppbECao6VIz"
      },
      "outputs": [],
      "source": [
        "# Your code goes here\n",
        "def single_letters(s):\n",
        "    return all(s.count(char) == 1 for char in s)"
      ]
    },
    {
      "cell_type": "markdown",
      "metadata": {},
      "source": [
        "<h3>ТЕСТЫ"
      ]
    },
    {
      "cell_type": "code",
      "execution_count": 5,
      "metadata": {},
      "outputs": [
        {
          "name": "stdout",
          "output_type": "stream",
          "text": [
            "Все тесты пройдены\n"
          ]
        }
      ],
      "source": [
        "assert single_letters(\"abc\") == True, \"Ошибка в тесте 1\"\n",
        "assert single_letters(\"aabb\") == False, \"Ошибка в тесте 2\"\n",
        "assert single_letters(\"\") == True, \"Ошибка в тесте 3\"\n",
        "assert single_letters(\"Aa\") == True, \"Ошибка в тесте 4\"\n",
        "print(\"Все тесты пройдены\")"
      ]
    },
    {
      "cell_type": "markdown",
      "metadata": {
        "id": "udRiIK1cdt6E"
      },
      "source": [
        "# Задача 3\n",
        "Написать функцию, которая принимает положительное число и возвращает количество\n",
        "бит равных 1 в этом числе. Написать тесты для кода"
      ]
    },
    {
      "cell_type": "code",
      "execution_count": 6,
      "metadata": {
        "id": "6tkfDJRz6dp_"
      },
      "outputs": [],
      "source": [
        "# Your code goes here\n",
        "def count_bits(n):\n",
        "    return bin(n).count('1')"
      ]
    },
    {
      "cell_type": "markdown",
      "metadata": {},
      "source": [
        "<h3>ТЕСТЫ"
      ]
    },
    {
      "cell_type": "code",
      "execution_count": 7,
      "metadata": {},
      "outputs": [
        {
          "name": "stdout",
          "output_type": "stream",
          "text": [
            "Все тесты пройдены\n"
          ]
        }
      ],
      "source": [
        "assert count_bits(0) == 0, \"Ошибка в тесте 1\"\n",
        "assert count_bits(1) == 1, \"Ошибка в тесте 2\"\n",
        "assert count_bits(2) == 1, \"Ошибка в тесте 3\"\n",
        "print(\"Все тесты пройдены\")"
      ]
    },
    {
      "cell_type": "markdown",
      "metadata": {
        "id": "26dDUz-Ae17N"
      },
      "source": [
        "# Задача 4\n",
        "Написать функцию, которая принимает положительное число. Функция должна вернуть то,\n",
        "сколько раз необходимо перемножать цифры числа или результат перемножения, чтобы\n",
        "получилось число состоящее из одной цифры.\n",
        "Например, для входного числа:\n",
        "· 39 функция должна вернуть 3, так как 3*9=27 => 2*7=14 => 1*4=4\n",
        "· 4 функция должна вернуть 0, так как число уже состоит из одной цифры\n",
        "· 999 функция должна вернуть 4, так как 9*9*9=729 => 7*2*9=126 => 1*2*6=12 =>\n",
        "1*2=2. Написать тесты для кода"
      ]
    },
    {
      "cell_type": "code",
      "execution_count": 8,
      "metadata": {
        "id": "BH1A_Mgi6i4G"
      },
      "outputs": [],
      "source": [
        "def magic(n):\n",
        "    steps = 0\n",
        "    while n > 9:\n",
        "        digits = [int(digit) for digit in str(n)]\n",
        "        n = 1\n",
        "        for digit in digits:\n",
        "            n *= digit\n",
        "        steps += 1\n",
        "    return steps"
      ]
    },
    {
      "cell_type": "markdown",
      "metadata": {},
      "source": [
        "<h3>ТЕСТЫ"
      ]
    },
    {
      "cell_type": "code",
      "execution_count": 9,
      "metadata": {},
      "outputs": [
        {
          "name": "stdout",
          "output_type": "stream",
          "text": [
            "Все тесты пройдены\n"
          ]
        }
      ],
      "source": [
        "assert magic(39) == 3, \"Ошибка в тесте 1\"\n",
        "assert magic(4) == 0, \"Ошибка в тесте 2\"\n",
        "assert magic(999) == 4, \"Ошибка в тесте 3\"\n",
        "print(\"Все тесты пройдены\")"
      ]
    },
    {
      "cell_type": "markdown",
      "metadata": {
        "id": "0nS-kIa8g8vd"
      },
      "source": [
        "# Задача 5\n",
        "Написать функцию, которая принимает два целочисленных вектора одинаковой длины и\n",
        "возвращает среднеквадратическое отклонение двух векторов. Написать тесты для кода"
      ]
    },
    {
      "cell_type": "code",
      "execution_count": 10,
      "metadata": {
        "id": "8iphx4LM6xbx"
      },
      "outputs": [],
      "source": [
        "def mse(pred, true):\n",
        "    if len(pred) != len(true):\n",
        "        raise ValueError(\"Разная длина векторов\")\n",
        "    return sum((p - t) ** 2 for p, t in zip(pred, true)) / len(pred)"
      ]
    },
    {
      "cell_type": "markdown",
      "metadata": {},
      "source": [
        "<h3>ТЕСТЫ"
      ]
    },
    {
      "cell_type": "code",
      "execution_count": 11,
      "metadata": {},
      "outputs": [
        {
          "name": "stdout",
          "output_type": "stream",
          "text": [
            "Тесты пройдены\n"
          ]
        }
      ],
      "source": [
        "assert mse([1, 2, 3], [1, 2, 3]) == 0, \"Ошибка в тесте 1\"\n",
        "assert mse([1, 2, 3], [1, 2, 4]) == 1/3, \"Ошибка в тесте 2\"\n",
        "print(\"Тесты пройдены\")"
      ]
    },
    {
      "cell_type": "markdown",
      "metadata": {
        "id": "vpIPKL439zkw"
      },
      "source": [
        "# Задача 6\n",
        "Написать функцию, принимающая целое положительное число. Функция должна вернуть\n",
        "строку вида “(n1**p1)(n2**p2)…(nk**pk)” представляющая разложение числа на простые\n",
        "множители (если pi == 1, то выводить только ni).\n",
        "Например, для числа 86240 функция должна вернуть “(2**5)(5)(7**2)(11)”. Написать тесты для кода"
      ]
    },
    {
      "cell_type": "code",
      "execution_count": 12,
      "metadata": {
        "id": "pFebmcZk94Jw"
      },
      "outputs": [],
      "source": [
        "def factorize(number):\n",
        "    if number == 1:\n",
        "        return \"(1)\"\n",
        "    \n",
        "    dividers = dict()\n",
        "    for i in range(2, number + 1):\n",
        "        while number % i == 0:\n",
        "            if i in dividers:\n",
        "                dividers[i] += 1\n",
        "            else:\n",
        "                dividers[i] = 1\n",
        "            number //= i\n",
        "        if number == 1:\n",
        "            break\n",
        "    \n",
        "    res = ''\n",
        "    for divider, count in dividers.items():\n",
        "        if count == 1:\n",
        "            res += f\"({divider})\"\n",
        "        else:\n",
        "            res += f\"({divider}**{count})\"\n",
        "    \n",
        "    return res"
      ]
    },
    {
      "cell_type": "markdown",
      "metadata": {},
      "source": [
        "<h3>ТЕСТЫ"
      ]
    },
    {
      "cell_type": "code",
      "execution_count": 13,
      "metadata": {},
      "outputs": [
        {
          "name": "stdout",
          "output_type": "stream",
          "text": [
            "Тесты пройдены\n"
          ]
        }
      ],
      "source": [
        "assert factorize(86240) == \"(2**5)(5)(7**2)(11)\", \"Ошибка в тесте 1\"\n",
        "assert factorize(13) == \"(13)\", \"Ошибка в тесте 2\"\n",
        "assert factorize(1) == \"(1)\", \"Ошибка в тесте 3\"\n",
        "print(\"Тесты пройдены\")"
      ]
    },
    {
      "cell_type": "markdown",
      "metadata": {
        "id": "ps2s0BudX7A2"
      },
      "source": [
        "# Задача 7\n",
        "Написать функцию, принимающая целое число n, задающее количество кубиков. Функция\n",
        "должна определить, можно ли из данного кол-ва кубиков построить пирамиду, то есть\n",
        "можно ли представить число n как 1^2+2^2+3^2+…+k^2. Если можно, то функция должна\n",
        "вернуть k, иначе строку “It is impossible”. Написать тесты для кода"
      ]
    },
    {
      "cell_type": "code",
      "execution_count": 14,
      "metadata": {
        "id": "3YPjEXxhX_YT"
      },
      "outputs": [],
      "source": [
        "def pyramid(n):\n",
        "    k = 1\n",
        "    while (k * (k + 1) * (2 * k + 1)) // 6 <= n:\n",
        "        if (k * (k + 1) * (2 * k + 1)) // 6 == n:\n",
        "            return k\n",
        "        k += 1\n",
        "    return \"It is impossible\""
      ]
    },
    {
      "cell_type": "markdown",
      "metadata": {},
      "source": [
        "<h3>ТЕСТЫ"
      ]
    },
    {
      "cell_type": "code",
      "execution_count": 16,
      "metadata": {},
      "outputs": [
        {
          "name": "stdout",
          "output_type": "stream",
          "text": [
            "Тесты пройдены\n"
          ]
        }
      ],
      "source": [
        "assert pyramid(5) == 2, \"Ошибка в тесте 2\"\n",
        "assert pyramid(4) == \"It is impossible\", \"Ошибка в тесте 4\"\n",
        "print(\"Тесты пройдены\")"
      ]
    },
    {
      "cell_type": "markdown",
      "metadata": {
        "id": "KeKgmIdAQMEJ"
      },
      "source": [
        "# Задача 8\n",
        "Функция принимает на вход положительное число и определяет является ли оно сбалансированным, т.е. сумма цифр до средних равна сумме цифр после. Средними в случае нечетного числа цифр считать одну цифру, в случае четного - две средних. Написать тесты для кода"
      ]
    },
    {
      "cell_type": "code",
      "execution_count": 17,
      "metadata": {
        "id": "gMAAqtqlQrZt"
      },
      "outputs": [],
      "source": [
        "# Your code goes here\n",
        "def is_balanced(n):\n",
        "    s = str(n)\n",
        "    length = len(s)\n",
        "    \n",
        "    if length % 2 == 0:  # Четное количество цифр\n",
        "        left_sum = sum(map(int, s[:length // 2 - 1]))\n",
        "        right_sum = sum(map(int, s[length // 2 + 1:]))\n",
        "    else:  # Нечетное количество цифр\n",
        "        left_sum = sum(map(int, s[:length // 2]))\n",
        "        right_sum = sum(map(int, s[length // 2 + 1:]))\n",
        "    \n",
        "    return left_sum == right_sum"
      ]
    },
    {
      "cell_type": "markdown",
      "metadata": {},
      "source": [
        "<h3>ТЕСТЫ"
      ]
    },
    {
      "cell_type": "code",
      "execution_count": 18,
      "metadata": {},
      "outputs": [
        {
          "name": "stdout",
          "output_type": "stream",
          "text": [
            "Тесты пройдены\n"
          ]
        }
      ],
      "source": [
        "assert is_balanced(123321) == True, \"Ошибка в тесте 1\"\n",
        "assert is_balanced(123322) == False, \"Ошибка в тесте 2\"\n",
        "assert is_balanced(7) == True, \"Ошибка в тесте 5\"\n",
        "print(\"Тесты пройдены\")"
      ]
    }
  ],
  "metadata": {
    "colab": {
      "provenance": []
    },
    "kernelspec": {
      "display_name": "Python 3",
      "name": "python3"
    },
    "language_info": {
      "codemirror_mode": {
        "name": "ipython",
        "version": 3
      },
      "file_extension": ".py",
      "mimetype": "text/x-python",
      "name": "python",
      "nbconvert_exporter": "python",
      "pygments_lexer": "ipython3",
      "version": "3.12.0"
    }
  },
  "nbformat": 4,
  "nbformat_minor": 0
}
