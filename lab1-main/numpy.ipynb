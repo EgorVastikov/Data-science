{
  "cells": [
    {
      "cell_type": "markdown",
      "metadata": {
        "id": "vC84e9kzyxPy"
      },
      "source": [
        "<h1>Импорт библиотек"
      ]
    },
    {
      "cell_type": "code",
      "execution_count": 2,
      "metadata": {
        "id": "cgKeNegmQG5S"
      },
      "outputs": [],
      "source": [
        "import numpy as np\n",
        "import matplotlib.pyplot as plt"
      ]
    },
    {
      "cell_type": "markdown",
      "metadata": {
        "id": "qFM9uVU2x4Ls"
      },
      "source": [
        "<h1>Задача 1. Дан набор из $p$ матриц размерностью $(n, n)$ и $p$ векторов размерностью $(n, 1)$, найти сумму произведений матриц на векторы. Написать тесты для кода"
      ]
    },
    {
      "cell_type": "code",
      "execution_count": 3,
      "metadata": {
        "id": "IAbUvEiYyWFF"
      },
      "outputs": [],
      "source": [
        "def sum_prod(X, V):\n",
        "    '''\n",
        "    X - матрицы (n, n)\n",
        "    V - векторы (n, 1)\n",
        "    Гарантируется, что len(X) == len(V)\n",
        "    '''\n",
        "    result = np.zeros_like(V[0])\n",
        "    for matrix, vector in zip(X, V):\n",
        "        result += np.dot(matrix, vector)\n",
        "    return result"
      ]
    },
    {
      "cell_type": "markdown",
      "metadata": {},
      "source": [
        "<h3>ТЕСТЫ"
      ]
    },
    {
      "cell_type": "code",
      "execution_count": 9,
      "metadata": {},
      "outputs": [
        {
          "name": "stdout",
          "output_type": "stream",
          "text": [
            "Тест 1 пройден\n",
            "Тест 2 пройден\n"
          ]
        }
      ],
      "source": [
        "def test1():\n",
        "    matrix = [np.array([[1, 2], [3, 4]])]\n",
        "    vector = [np.array([[1], [1]])]\n",
        "    exp_result = np.array([[3], [7]])\n",
        "\n",
        "    assert np.array_equal(sum_prod(matrix, vector), exp_result), \"Тест не пройден\"\n",
        "    print(\"Тест 1 пройден\")\n",
        "    \n",
        "\n",
        "\n",
        "def test2():\n",
        "    matrix = [np.array([[2, 0], [0, 2]])]\n",
        "    vector = [np.array([[1], [1]])]\n",
        "    exp_result = np.array([[2], [2]])\n",
        "\n",
        "    assert np.array_equal(sum_prod(matrix, vector), exp_result), \"Тест не пройден\"\n",
        "    print(\"Тест 2 пройден\")\n",
        "\n",
        "\n",
        "test1()\n",
        "test2()"
      ]
    },
    {
      "cell_type": "markdown",
      "metadata": {
        "id": "TKwPG4fIy2w4"
      },
      "source": [
        "<h1>Задача 2. Дана матрица M, напишите функцию, которая бинаризует матрицу по некоторому threshold (то есть, все значения большие threshold становятся равными 1, иначе 0). Напишите тесты для кода"
      ]
    },
    {
      "cell_type": "code",
      "execution_count": 11,
      "metadata": {
        "id": "KQDNMgsjRNH7"
      },
      "outputs": [],
      "source": [
        "def binarize(M, threshold=0.5):\n",
        "    # Your code goes here\n",
        "    return np.where(M > threshold, 1, 0)"
      ]
    },
    {
      "cell_type": "markdown",
      "metadata": {},
      "source": [
        "<h3>ТЕСТЫ"
      ]
    },
    {
      "cell_type": "code",
      "execution_count": 12,
      "metadata": {},
      "outputs": [
        {
          "name": "stdout",
          "output_type": "stream",
          "text": [
            "Тест 1 пройден\n",
            "Тест 2 пройден\n"
          ]
        }
      ],
      "source": [
        "def binarize_test1():\n",
        "    M = np.array([[1, 2, 3], [4, 5, 6], [7, 8, 9]])\n",
        "    exp_result = np.array([[0, 0, 0], [0, 0, 1], [1, 1, 1]])\n",
        "\n",
        "    assert np.array_equal(binarize(M, 5), exp_result), \"Тест 1 не пройден\"\n",
        "    print(\"Тест 1 пройден\")\n",
        "\n",
        "def binarize_test2():\n",
        "    M = np.array([[ 1,  0,  3], [-1,  5,  2], [ 4,  0, -2]])\n",
        "    exp_result = np.array([[1, 0, 1], [0, 1, 1], [1, 0, 0]])\n",
        "\n",
        "    assert np.array_equal(binarize(M), exp_result), \"Тест 2 не пройден\"\n",
        "    print(\"Тест 2 пройден\")\n",
        "\n",
        "binarize_test1()\n",
        "binarize_test2()"
      ]
    },
    {
      "cell_type": "markdown",
      "metadata": {
        "id": "IY5L-h-7zWhN"
      },
      "source": [
        "<h1>Задача 3. Напишите функцию, которая возвращает уникальные элементы из каждой строки матрицы. Напишите такую же функцию, но для столбцов. Напишите тесты для кода"
      ]
    },
    {
      "cell_type": "code",
      "execution_count": 13,
      "metadata": {
        "id": "-8dEZhR0SBC-"
      },
      "outputs": [],
      "source": [
        "def unique_rows(mat):\n",
        "    unique = [np.unique(row) for row in mat]\n",
        "    return unique\n",
        "\n",
        "def unique_columns(mat):\n",
        "    unique = [np.unique(row) for row in mat.T]\n",
        "    return unique"
      ]
    },
    {
      "cell_type": "markdown",
      "metadata": {},
      "source": [
        "<h3>ТЕСТЫ"
      ]
    },
    {
      "cell_type": "code",
      "execution_count": 14,
      "metadata": {},
      "outputs": [
        {
          "name": "stdout",
          "output_type": "stream",
          "text": [
            "Тест строк пройден\n",
            "Тест столбцов пройден\n"
          ]
        }
      ],
      "source": [
        "def unique_test():\n",
        "    mat = np.array([[1, 2, 2], [3, 3, 3], [4, 5, 6]])\n",
        "    exp_rows = [np.array([1, 2]), np.array([3]), np.array([4, 5, 6])]\n",
        "\n",
        "    assert all(np.array_equal(u, v) for u, v in zip(unique_rows(mat), exp_rows)), \"Тест уникальных строк не пройден\"\n",
        "    print(\"Тест строк пройден\")\n",
        "\n",
        "    exp_cols = [np.array([1, 3, 4]), np.array([2, 3, 5]), np.array([2, 3, 6])]\n",
        "    assert all(np.array_equal(u, v) for u, v in zip(unique_columns(mat), exp_cols)), \"Тест уникальных столбцов не пройден\"\n",
        "    print(\"Тест столбцов пройден\")\n",
        "\n",
        "unique_test()"
      ]
    },
    {
      "cell_type": "markdown",
      "metadata": {
        "id": "roYAlo4Jz-lH"
      },
      "source": [
        "<h1>Задача 4. Напишите функцию, которая заполняет матрицу с размерами $(m, n)$ случайными числами, распределенными по нормальному закону. Затем считает мат. ожидание и дисперсию для каждого из столбцов и строк, а также строит для каждой строки и столбца гистограмму значений (использовать функцию hist из модуля matplotlib.plot)"
      ]
    },
    {
      "cell_type": "code",
      "execution_count": 3,
      "metadata": {
        "id": "nZK_71hMSQzv"
      },
      "outputs": [
        {
          "data": {
            "image/png": "[encoded data removed]",
            "text/plain": [
              "<Figure size 640x480 with 1 Axes>"
            ]
          },
          "metadata": {},
          "output_type": "display_data"
        },
        {
          "data": {
            "image/png": "[encoded data removed]",
            "text/plain": [
              "<Figure size 640x480 with 1 Axes>"
            ]
          },
          "metadata": {},
          "output_type": "display_data"
        },
        {
          "name": "stdout",
          "output_type": "stream",
          "text": [
            "Матрица:\n",
            "[[-0.09543405 -0.89390755  0.81582676]\n",
            " [ 0.13427399  1.27914111  0.31628439]\n",
            " [ 0.14842904 -0.17696735 -2.05960805]]\n",
            "Мат ожидания строк: [-0.05783828  0.57656649 -0.69604878]\n",
            "Мат ожидания столбцов: [ 0.06242299  0.06942207 -0.30916563]\n",
            "Дисперии строк: [0.48790529 0.25232684 0.94729407]\n",
            "Дисперсии столбцов: [0.01249282 0.81737728 1.57361475]\n"
          ]
        }
      ],
      "source": [
        "def fill_matrix(m, n):\n",
        "    matrix = np.random.normal(size=(m, n))\n",
        "    row_mat_expectation = np.mean(matrix, axis=1)\n",
        "    column_mat_expectation = np.mean(matrix, axis=0)\n",
        "    row_dispersion = np.var(matrix, axis=1)\n",
        "    column_dispersion = np.var(matrix, axis=0)\n",
        "\n",
        "    for i in range(m):\n",
        "        plt.hist(matrix[i], label=f\"Строка {i + 1}\")\n",
        "    plt.title('Гистограммы для строк')\n",
        "    plt.legend()\n",
        "    plt.show()\n",
        "\n",
        "    transponsed_matrix = np.transpose(matrix)\n",
        "    for i in range(n):\n",
        "        plt.hist(transponsed_matrix[i], label=f\"Столбец {i + 1}\")\n",
        "    plt.title('Гистограммы для столбцов')\n",
        "    plt.legend()\n",
        "    plt.show()\n",
        "\n",
        "    return matrix, row_mat_expectation, column_mat_expectation, row_dispersion, column_dispersion\n",
        "\n",
        "matrix, row_mat_expectation, column_mat_expectation, row_dispersion, column_dispersion = fill_matrix(3, 3)\n",
        "\n",
        "print(f\"Матрица:\\n{matrix}\")\n",
        "print(f\"Мат ожидания строк: {row_mat_expectation}\")\n",
        "print(f\"Мат ожидания столбцов: {column_mat_expectation}\")\n",
        "print(f\"Дисперии строк: {row_dispersion}\")\n",
        "print(f\"Дисперсии столбцов: {column_dispersion}\")"
      ]
    },
    {
      "cell_type": "markdown",
      "metadata": {
        "id": "BDyATNdM0dJ2"
      },
      "source": [
        "<h1>Задача 5. Напишите функцию, которая заполняет матрицу $(m, n)$ в шахматном порядке заданными числами $a$ и $b$. Напишите тесты для кода"
      ]
    },
    {
      "cell_type": "code",
      "execution_count": 15,
      "metadata": {
        "id": "RWNJYWQGecS6"
      },
      "outputs": [],
      "source": [
        "def chess(m, n, a, b):\n",
        "    \"\"\"a - 'чёрные поля', b - 'белые поля'\"\"\"\n",
        "\n",
        "    mat = np.zeros((m, n), dtype=int)\n",
        "\n",
        "    mat[::2, ::2] = a\n",
        "    mat[1::2, 1::2] = a\n",
        "    mat[::2, 1::2] = b\n",
        "    mat[1::2, ::2] = b\n",
        "    \n",
        "    return mat\n",
        "\n",
        "    "
      ]
    },
    {
      "cell_type": "markdown",
      "metadata": {},
      "source": [
        "<h3> ТЕСТЫ"
      ]
    },
    {
      "cell_type": "code",
      "execution_count": 16,
      "metadata": {},
      "outputs": [
        {
          "name": "stdout",
          "output_type": "stream",
          "text": [
            "Тест 1 пройден\n",
            "Тест 2 пройден\n"
          ]
        }
      ],
      "source": [
        "def chess_test():\n",
        "    a, b = 0, 1\n",
        "\n",
        "    m1, n1 = 2, 3\n",
        "    expected1 = np.array([[0, 1, 0], [1, 0, 1]])\n",
        "    assert np.array_equal(chess(m1, n1, a, b), expected1), \"Тест 1 не пройден\"\n",
        "    print(\"Тест 1 пройден\")\n",
        "\n",
        "    m2, n2 = 3, 3\n",
        "    expected2 = np.array([[0, 1, 0], [1, 0, 1], [0, 1, 0]])\n",
        "    assert np.array_equal(chess(m2, n2, a, b), expected2), \"Тест 2 не пройден\"\n",
        "    print(\"Тест 2 пройден\")\n",
        "\n",
        "chess_test()"
      ]
    },
    {
      "cell_type": "markdown",
      "metadata": {
        "id": "-ymXLtTN0vB6"
      },
      "source": [
        "<h1>Задача 6. Напишите функцию, которая отрисовывает прямоугольник с заданными размерами (a, b) на изображении размера (m, n), цвет фона задайте в схеме RGB, как и цвет прямоугольника. Цвета также должны быть параметрами функции. Напишите аналогичную функцию но для овала с полуосями a и b. Напишите тесты для кода.\n",
        "Примечание: уравнение эллипса (границы овала) можно записать как:\n",
        "<h1>$\\frac{(x-x_0)^2}{a^2}+\\frac{(y-y_0)^2}{b^2}=1$"
      ]
    },
    {
      "cell_type": "code",
      "execution_count": 4,
      "metadata": {
        "id": "sNfl1t_kfOF4"
      },
      "outputs": [],
      "source": [
        "def draw_rectangle(a, b, m, n, rectangle_color, background_color):\n",
        "    img = np.zeros((n, m, 3), dtype=np.uint8)\n",
        "    img[:] = background_color\n",
        "\n",
        "    x0, y0 = (m - a) // 2, (n - b) // 2\n",
        "\n",
        "    img[y0:y0+b, x0:x0+a] = rectangle_color\n",
        "\n",
        "    plt.imshow(img)\n",
        "    plt.axis('off')\n",
        "    plt.show()\n",
        "\n",
        "def draw_ellipse(a, b, m, n, ellipse_color, background_color):\n",
        "    img = np.zeros((n, m, 3), dtype=np.uint8)\n",
        "    img[:] = background_color\n",
        "\n",
        "    x0, y0 = m // 2, n // 2\n",
        "\n",
        "    y, x = np.ogrid[:n, :m]\n",
        "    mask = ((x - x0)**2 / a**2 + (y - y0)**2 / b**2) <= 1\n",
        "\n",
        "    img[mask] = ellipse_color\n",
        "\n",
        "    plt.imshow(img)\n",
        "    plt.axis('off')\n",
        "    plt.show()"
      ]
    },
    {
      "cell_type": "markdown",
      "metadata": {},
      "source": [
        "<h3>ТЕСТЫ"
      ]
    },
    {
      "cell_type": "code",
      "execution_count": 5,
      "metadata": {},
      "outputs": [
        {
          "data": {
            "image/png": "[encoded data removed]",
            "text/plain": [
              "<Figure size 640x480 with 1 Axes>"
            ]
          },
          "metadata": {},
          "output_type": "display_data"
        },
        {
          "data": {
            "image/png": "[encoded data removed]",
            "text/plain": [
              "<Figure size 640x480 with 1 Axes>"
            ]
          },
          "metadata": {},
          "output_type": "display_data"
        }
      ],
      "source": [
        "draw_rectangle(100, 50, 300, 200, (255, 0, 0), (0, 0, 255))\n",
        "draw_ellipse(100, 50, 300, 200, (0, 255, 0), (255, 255, 0))"
      ]
    },
    {
      "cell_type": "markdown",
      "metadata": {
        "id": "S82c38oz244H"
      },
      "source": [
        "<h1>Задача 7. Дан некий временной ряд. Для данного ряда нужно найти его: математическое ожидание, дисперсию, СКО, найти все локальные максимумы и минимумы (локальный максимум - это точка, которая больше своих соседних точек, а локальный минимум - это точка, которая меньше своих соседей), а также вычислить для данного ряда другой ряд, получаемый методом скользящего среднего с размером окна $p$.\n",
        "<h1>Примечание: метод скользящего среднего подразумевает нахождение среднего из подмножетсва ряда размером $p$"
      ]
    },
    {
      "cell_type": "code",
      "execution_count": 6,
      "metadata": {
        "id": "Zb9mIVge5MMt"
      },
      "outputs": [],
      "source": [
        "# Your code goes here\n",
        "def time_series_analysis(time_series, window_size):\n",
        "    mean = np.mean(time_series)\n",
        "    \n",
        "    variance = np.var(time_series)\n",
        "    \n",
        "    std_deviation = np.std(time_series)\n",
        "    \n",
        "    local_max = []\n",
        "    local_min = []\n",
        "    for i in range(1, len(time_series) - 1):\n",
        "        if time_series[i-1] < time_series[i] and time_series[i] > time_series[i+1]:\n",
        "            local_max.append(i)\n",
        "        elif time_series[i-1] > time_series[i] and time_series[i] < time_series[i+1]:\n",
        "            local_min.append(i)\n",
        "    \n",
        "    moving_average = np.convolve(time_series, np.ones(window_size) / window_size, mode='valid')\n",
        "    \n",
        "    return {\n",
        "        'mean': mean,\n",
        "        'variance': variance,\n",
        "        'std_deviation': std_deviation,\n",
        "        'local_max': local_max,\n",
        "        'local_min': local_min,\n",
        "        'moving_average': moving_average\n",
        "    }"
      ]
    },
    {
      "cell_type": "markdown",
      "metadata": {},
      "source": [
        "<h3>ТЕСТЫ"
      ]
    },
    {
      "cell_type": "code",
      "execution_count": 7,
      "metadata": {},
      "outputs": [
        {
          "name": "stdout",
          "output_type": "stream",
          "text": [
            "Математическое ожидание: 3.3076923076923075\n",
            "Дисперсия: 5.905325443786983\n",
            "СКО: 2.4300875382971254\n",
            "Локальные максимумы:  [7, 6, 3, 5]\n",
            "Локальные минимумы:  [1, 0, 2, 4]\n",
            "Скользящее среднее:  [3.66666667 3.66666667 3.33333333 3.         2.66666667 2.33333333\n",
            " 1.33333333 2.         3.33333333 3.66666667 5.66666667]\n"
          ]
        }
      ],
      "source": [
        "time_series = [1, 3, 7, 1, 2, 6, 0, 1, 3, 2, 5, 4, 8]\n",
        "window_size = 3\n",
        "result = time_series_analysis(time_series, window_size)\n",
        "\n",
        "print(f\"Математическое ожидание: {result['mean']}\")\n",
        "print(f\"Дисперсия: {result['variance']}\")\n",
        "print(f\"СКО: {result['std_deviation']}\")\n",
        "print(\"Локальные максимумы: \", [time_series[i] for i in result['local_max']])\n",
        "print(\"Локальные минимумы: \", [time_series[i] for i in result['local_min']])\n",
        "print(\"Скользящее среднее: \", result['moving_average'])"
      ]
    },
    {
      "cell_type": "markdown",
      "metadata": {
        "id": "jPkylmOX5O9n"
      },
      "source": [
        "<h1> Задача 8. Дан некоторый вектор с целочисленными метками классов, напишите функцию, которая выполняет one-hot-encoding для данного вектора\n",
        "<h1> One-hot-encoding - представление, в котором на месте метки некоторого класса стоит 1, в остальных позициях стоит 0. Например для вектора [0, 2, 3, 0] one-hot-encoding выглядит как: [[1, 0, 0, 0], [0, 0, 1, 0], [0, 0, 0, 1], [1, 0, 0, 0]]"
      ]
    },
    {
      "cell_type": "code",
      "execution_count": 8,
      "metadata": {
        "id": "Y-jlnZvw56lD"
      },
      "outputs": [],
      "source": [
        "# Your code goes here\n",
        "def one_hot_encoding(labels):\n",
        "    num_classes = np.max(labels) + 1\n",
        "    one_hot = np.zeros((len(labels), num_classes))\n",
        "    one_hot[np.arange(len(labels)), labels] = 1\n",
        "    return one_hot"
      ]
    },
    {
      "cell_type": "markdown",
      "metadata": {},
      "source": [
        "<h3>ТЕСТЫ"
      ]
    },
    {
      "cell_type": "code",
      "execution_count": 9,
      "metadata": {},
      "outputs": [
        {
          "name": "stdout",
          "output_type": "stream",
          "text": [
            "[[1. 0. 0. 0.]\n",
            " [0. 0. 1. 0.]\n",
            " [0. 0. 0. 1.]\n",
            " [1. 0. 0. 0.]]\n"
          ]
        }
      ],
      "source": [
        "labels = np.array([0, 2, 3, 0])\n",
        "one_hot_encoded = one_hot_encoding(labels)\n",
        "print(one_hot_encoded)"
      ]
    }
  ],
  "metadata": {
    "colab": {
      "provenance": []
    },
    "kernelspec": {
      "display_name": "Python 3",
      "name": "python3"
    },
    "language_info": {
      "codemirror_mode": {
        "name": "ipython",
        "version": 3
      },
      "file_extension": ".py",
      "mimetype": "text/x-python",
      "name": "python",
      "nbconvert_exporter": "python",
      "pygments_lexer": "ipython3",
      "version": "3.12.0"
    }
  },
  "nbformat": 4,
  "nbformat_minor": 0
}
